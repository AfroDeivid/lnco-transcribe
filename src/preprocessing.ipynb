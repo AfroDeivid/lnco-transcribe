{
 "cells": [
  {
   "cell_type": "code",
   "execution_count": 1,
   "metadata": {},
   "outputs": [],
   "source": [
    "%load_ext autoreload\n",
    "%autoreload 2"
   ]
  },
  {
   "cell_type": "code",
   "execution_count": 2,
   "metadata": {},
   "outputs": [],
   "source": [
    "from utils.preprocessing_helpers import *"
   ]
  },
  {
   "cell_type": "markdown",
   "metadata": {},
   "source": [
    "# Data Cleaning and Preprocessing for Interview Transcripts"
   ]
  },
  {
   "cell_type": "markdown",
   "metadata": {},
   "source": [
    "This notebook provides a modular workflow to clean and preprocess CSV transcripts from raw interview data. Users can follow the steps that apply to their specific needs, or customize the workflow as required."
   ]
  },
  {
   "cell_type": "markdown",
   "metadata": {},
   "source": [
    "## **Sections**"
   ]
  },
  {
   "cell_type": "markdown",
   "metadata": {},
   "source": [
    "- **Organizing Files by Experiment:** Structure raw files by experiment to improve manageability. *(if mixed on another folder)*\n",
    "- **Removing Filler Words and Repetitions + Visual Cleaning:** Clean transcripts by eliminating unnecessary content + visual cleaning\n",
    "- **Predicting Speaker Roles:** Automatically assign speaker roles if they are not manually labeled.\n",
    "- **Text Format + Visual Cleaning:** Prepare transcripts with consistent formatting and timestamps.\n",
    "- **Matching Translations:** Align translated transcripts with original data for bilingual analysis.\n",
    "- **Merging Files:** Combine split transcripts from the same interview.\n",
    "- **Adding Metadata:** Enrich transcripts with additional information such as conditions or utterance indices."
   ]
  },
  {
   "cell_type": "markdown",
   "metadata": {},
   "source": [
    "*The removal of vocalized fillers & repetitions, visual cleaning, and speaker role predictions have already been completed in the ``results/processed`` folder.*"
   ]
  },
  {
   "cell_type": "markdown",
   "metadata": {},
   "source": [
    "# **Workflow Sections**"
   ]
  },
  {
   "cell_type": "markdown",
   "metadata": {},
   "source": [
    "## Organizing Files by Experiment *(if mixed on another folder)*\n",
    "Group raw files into folders based on experiments (e.g., OBE1, OBE2, Compassion). This ensures data is well-structured for downstream processing."
   ]
  },
  {
   "cell_type": "code",
   "execution_count": 3,
   "metadata": {},
   "outputs": [
    {
     "name": "stdout",
     "output_type": "stream",
     "text": [
      "../evaluation/references\\ID 05.csv\n",
      "Copied ID 05.csv to ../interviews_corrected/0_raw\\OBE1\n",
      "../evaluation/references\\Id 08.csv\n",
      "Copied Id 08.csv to ../interviews_corrected/0_raw\\OBE1\n",
      "../evaluation/references\\Id 13.csv\n",
      "Copied Id 13.csv to ../interviews_corrected/0_raw\\OBE1\n",
      "../evaluation/references\\Id 13b.csv\n",
      "Copied Id 13b.csv to ../interviews_corrected/0_raw\\OBE1\n",
      "../evaluation/references\\Id 14.csv\n",
      "Copied Id 14.csv to ../interviews_corrected/0_raw\\OBE1\n",
      "../evaluation/references\\Id 15.csv\n",
      "Copied Id 15.csv to ../interviews_corrected/0_raw\\OBE1\n",
      "../evaluation/references\\Id 16.csv\n",
      "Copied Id 16.csv to ../interviews_corrected/0_raw\\OBE1\n",
      "../evaluation/references\\Id 17.csv\n",
      "Copied Id 17.csv to ../interviews_corrected/0_raw\\OBE1\n",
      "../evaluation/references\\Id 18.csv\n",
      "Copied Id 18.csv to ../interviews_corrected/0_raw\\OBE1\n",
      "../evaluation/references\\Id 19.csv\n",
      "Copied Id 19.csv to ../interviews_corrected/0_raw\\OBE1\n",
      "../evaluation/references\\Id 19b.csv\n",
      "Copied Id 19b.csv to ../interviews_corrected/0_raw\\OBE1\n",
      "../evaluation/references\\Id 22.csv\n",
      "Copied Id 22.csv to ../interviews_corrected/0_raw\\OBE1\n",
      "../evaluation/references\\Id 23.csv\n",
      "Copied Id 23.csv to ../interviews_corrected/0_raw\\OBE1\n",
      "../evaluation/references\\Id 24.csv\n",
      "Copied Id 24.csv to ../interviews_corrected/0_raw\\OBE1\n",
      "../evaluation/references\\Id 24b.csv\n",
      "Copied Id 24b.csv to ../interviews_corrected/0_raw\\OBE1\n",
      "../evaluation/references\\Id 7a.csv\n",
      "Copied Id 7a.csv to ../interviews_corrected/0_raw\\OBE1\n",
      "../evaluation/references\\Id 7b.csv\n",
      "Copied Id 7b.csv to ../interviews_corrected/0_raw\\OBE1\n",
      "../evaluation/references\\Participant 20 interview.csv\n",
      "Copied Participant 20 interview.csv to ../interviews_corrected/0_raw\\OBE1\n",
      "../evaluation/references\\S201-1.csv\n",
      "Copied S201-1.csv to ../interviews_corrected/0_raw\\OBE2\n",
      "../evaluation/references\\S201-2.csv\n",
      "Copied S201-2.csv to ../interviews_corrected/0_raw\\OBE2\n",
      "../evaluation/references\\S201-3.csv\n",
      "Copied S201-3.csv to ../interviews_corrected/0_raw\\OBE2\n",
      "../evaluation/references\\S202-1.csv\n",
      "Copied S202-1.csv to ../interviews_corrected/0_raw\\OBE2\n",
      "../evaluation/references\\S203-1.csv\n",
      "Copied S203-1.csv to ../interviews_corrected/0_raw\\OBE2\n",
      "../evaluation/references\\S204-1.csv\n",
      "Copied S204-1.csv to ../interviews_corrected/0_raw\\OBE2\n",
      "../evaluation/references\\S204-2.csv\n",
      "Copied S204-2.csv to ../interviews_corrected/0_raw\\OBE2\n",
      "../evaluation/references\\S205-1.csv\n",
      "Copied S205-1.csv to ../interviews_corrected/0_raw\\OBE2\n",
      "../evaluation/references\\S205-2.csv\n",
      "Copied S205-2.csv to ../interviews_corrected/0_raw\\OBE2\n",
      "../evaluation/references\\S206-1.csv\n",
      "Copied S206-1.csv to ../interviews_corrected/0_raw\\OBE2\n",
      "../evaluation/references\\S206-2.csv\n",
      "Copied S206-2.csv to ../interviews_corrected/0_raw\\OBE2\n",
      "../evaluation/references\\S207-1.csv\n",
      "Copied S207-1.csv to ../interviews_corrected/0_raw\\OBE2\n",
      "../evaluation/references\\S207-2.csv\n",
      "Copied S207-2.csv to ../interviews_corrected/0_raw\\OBE2\n",
      "../evaluation/references\\S208-1.csv\n",
      "Copied S208-1.csv to ../interviews_corrected/0_raw\\OBE2\n",
      "../evaluation/references\\S208-2.csv\n",
      "Copied S208-2.csv to ../interviews_corrected/0_raw\\OBE2\n",
      "../evaluation/references\\S209-1.csv\n",
      "Copied S209-1.csv to ../interviews_corrected/0_raw\\OBE2\n",
      "../evaluation/references\\S209-2.csv\n",
      "Copied S209-2.csv to ../interviews_corrected/0_raw\\OBE2\n",
      "../evaluation/references\\S209-3.csv\n",
      "Copied S209-3.csv to ../interviews_corrected/0_raw\\OBE2\n",
      "../evaluation/references\\S209-4.csv\n",
      "Copied S209-4.csv to ../interviews_corrected/0_raw\\OBE2\n",
      "../evaluation/references\\S210-1.csv\n",
      "Copied S210-1.csv to ../interviews_corrected/0_raw\\OBE2\n",
      "../evaluation/references\\S210-2.csv\n",
      "Copied S210-2.csv to ../interviews_corrected/0_raw\\OBE2\n",
      "../evaluation/references\\S210-3.csv\n",
      "Copied S210-3.csv to ../interviews_corrected/0_raw\\OBE2\n",
      "../evaluation/references\\S211_1.csv\n",
      "Copied S211_1.csv to ../interviews_corrected/0_raw\\OBE2\n",
      "../evaluation/references\\S211_2.csv\n",
      "Copied S211_2.csv to ../interviews_corrected/0_raw\\OBE2\n",
      "../evaluation/references\\S211_3 (partially in french).csv\n",
      "Copied S211_3 (partially in french).csv to ../interviews_corrected/0_raw\\OBE2\n",
      "../evaluation/references\\S212_1.csv\n",
      "Copied S212_1.csv to ../interviews_corrected/0_raw\\OBE2\n",
      "../evaluation/references\\S212_2.csv\n",
      "Copied S212_2.csv to ../interviews_corrected/0_raw\\OBE2\n",
      "../evaluation/references\\S213_1.csv\n",
      "Copied S213_1.csv to ../interviews_corrected/0_raw\\OBE2\n",
      "../evaluation/references\\S213_2.csv\n",
      "Copied S213_2.csv to ../interviews_corrected/0_raw\\OBE2\n",
      "../evaluation/references\\S214_1.csv\n",
      "Copied S214_1.csv to ../interviews_corrected/0_raw\\OBE2\n",
      "../evaluation/references\\S214_2.csv\n",
      "Copied S214_2.csv to ../interviews_corrected/0_raw\\OBE2\n",
      "../evaluation/references\\S217.csv\n",
      "Copied S217.csv to ../interviews_corrected/0_raw\\OBE2\n",
      "../evaluation/references\\S218-1.csv\n",
      "Copied S218-1.csv to ../interviews_corrected/0_raw\\OBE2\n",
      "../evaluation/references\\S218-2.csv\n",
      "Copied S218-2.csv to ../interviews_corrected/0_raw\\OBE2\n",
      "../evaluation/references\\S219-1.csv\n",
      "Copied S219-1.csv to ../interviews_corrected/0_raw\\OBE2\n",
      "../evaluation/references\\S219-2.csv\n",
      "Copied S219-2.csv to ../interviews_corrected/0_raw\\OBE2\n",
      "../evaluation/references\\S220-1.csv\n",
      "Copied S220-1.csv to ../interviews_corrected/0_raw\\OBE2\n",
      "../evaluation/references\\S220-2.csv\n",
      "Copied S220-2.csv to ../interviews_corrected/0_raw\\OBE2\n",
      "../evaluation/references\\S222_c.csv\n",
      "Copied S222_c.csv to ../interviews_corrected/0_raw\\OBE2\n",
      "../evaluation/references\\S222_m.csv\n",
      "Copied S222_m.csv to ../interviews_corrected/0_raw\\OBE2\n",
      "../evaluation/references\\S223.csv\n",
      "Copied S223.csv to ../interviews_corrected/0_raw\\OBE2\n",
      "../evaluation/references\\S225.csv\n",
      "Copied S225.csv to ../interviews_corrected/0_raw\\OBE2\n",
      "../evaluation/references\\S225[1].csv\n",
      "Copied S225[1].csv to ../interviews_corrected/0_raw\\OBE2\n",
      "../evaluation/references\\S226.csv\n",
      "Copied S226.csv to ../interviews_corrected/0_raw\\OBE2\n",
      "../evaluation/references\\S226[1].csv\n",
      "Copied S226[1].csv to ../interviews_corrected/0_raw\\OBE2\n",
      "../evaluation/references\\S226[2].csv\n",
      "Copied S226[2].csv to ../interviews_corrected/0_raw\\OBE2\n",
      "../evaluation/references\\S227 control interview.csv\n",
      "Copied S227 control interview.csv to ../interviews_corrected/0_raw\\OBE2\n",
      "../evaluation/references\\S227 intervention.csv\n",
      "Copied S227 intervention.csv to ../interviews_corrected/0_raw\\OBE2\n",
      "../evaluation/references\\S228 control.csv\n",
      "Copied S228 control.csv to ../interviews_corrected/0_raw\\OBE2\n",
      "../evaluation/references\\S228 intervention.csv\n",
      "Copied S228 intervention.csv to ../interviews_corrected/0_raw\\OBE2\n",
      "../evaluation/references\\S229 control.csv\n",
      "Copied S229 control.csv to ../interviews_corrected/0_raw\\OBE2\n",
      "../evaluation/references\\S229 intervention.csv\n",
      "Copied S229 intervention.csv to ../interviews_corrected/0_raw\\OBE2\n",
      "../evaluation/references\\S230 control.csv\n",
      "Copied S230 control.csv to ../interviews_corrected/0_raw\\OBE2\n",
      "../evaluation/references\\S230 intervention.csv\n",
      "Copied S230 intervention.csv to ../interviews_corrected/0_raw\\OBE2\n",
      "../evaluation/references\\S301final.csv\n",
      "Copied S301final.csv to ../interviews_corrected/0_raw\\Compassion\n",
      "../evaluation/references\\S302con.csv\n",
      "Copied S302con.csv to ../interviews_corrected/0_raw\\Compassion\n",
      "../evaluation/references\\S302man.csv\n",
      "Copied S302man.csv to ../interviews_corrected/0_raw\\Compassion\n",
      "../evaluation/references\\S303con.csv\n",
      "Copied S303con.csv to ../interviews_corrected/0_raw\\Compassion\n",
      "../evaluation/references\\S303man.csv\n",
      "Copied S303man.csv to ../interviews_corrected/0_raw\\Compassion\n",
      "../evaluation/references\\S304.csv\n",
      "Copied S304.csv to ../interviews_corrected/0_raw\\Compassion\n",
      "../evaluation/references\\S305con.csv\n",
      "Copied S305con.csv to ../interviews_corrected/0_raw\\Compassion\n",
      "../evaluation/references\\S306.csv\n",
      "Copied S306.csv to ../interviews_corrected/0_raw\\Compassion\n",
      "../evaluation/references\\S307.csv\n",
      "Copied S307.csv to ../interviews_corrected/0_raw\\Compassion\n",
      "../evaluation/references\\S313.csv\n",
      "Copied S313.csv to ../interviews_corrected/0_raw\\Compassion\n"
     ]
    }
   ],
   "source": [
    "source_directory = \"../evaluation/references\"    \n",
    "destination_directory = \"../interviews_corrected/0_raw\"    \n",
    "\n",
    "organize_csv_files_by_experiment(source_directory, destination_directory)"
   ]
  },
  {
   "cell_type": "markdown",
   "metadata": {},
   "source": [
    "## Removing \"Vocalized Fillers\", repetitions + Visual Cleaning \n",
    "\n",
    "Vocalized Fillers are natural sounds, pauses, or expressions that occur in speech, such as ``\"mmh\"`` , ``\"uh\"`` or ``\"hmm\"``. While these fillers can represent meaningful pauses or conversational intentions, they are often considered meaningless words that do not contribute additional information and can complicate text analysis by adding unnecessary noise.\n",
    "\n",
    "### Context-Based Decision:\n",
    "\n",
    "**Meditation Interviews:** Fillers were removed during transcription to enhance clarity and focus on meaningful content.\n",
    "\n",
    "**Grief Interviews:** Fillers were retained during transcription, as they provide insight into natural pauses, emotions, and the conversational flow, which are critical for the analysis."
   ]
  },
  {
   "cell_type": "code",
   "execution_count": 4,
   "metadata": {},
   "outputs": [],
   "source": [
    "source_directory = \"../interviews_corrected/0_raw\" \n",
    "destination_directory = \"../interviews_corrected/1_cleaned\" \n",
    "\n",
    "# List of common Vocalized Fillers add more if needed or put None\n",
    "vocalized_fillers = [\"Mm-hmm\", \"uh\", \"huh\", \"um\", \"hmm\", \"Mm\",]\n",
    "\n",
    "process_files(source_directory, destination_directory, vocalized_fillers)"
   ]
  },
  {
   "cell_type": "markdown",
   "metadata": {},
   "source": [
    "Further cleaning of filler words, including more nuanced removal of conversational fillers, stop-words filtering, and lemmatization, is handled during post-transcription analysis in the analysis notebook. This approach allows for targeted preprocessing based on specific analysis goals, ensuring optimal results for tasks such as topic modeling, sentiment analysis, and text visualization.\n",
    "\n",
    "By balancing transcription cleaning and post-analysis processing, this workflow maintains flexibility to adapt to different analytical needs while ensuring that important conversational nuances are preserved or highlighted as required."
   ]
  },
  {
   "cell_type": "markdown",
   "metadata": {},
   "source": [
    "## Predicting Speaker Roles\n",
    "- Achieve 100 % accuracy, on this set of interviews.\n",
    "- Work pretty well, on *normal* audio interviews, might be incorrect on ``\"0 : No interview (eg. Set-up)\"`` (even if in this dataset it  was correctly predicted)."
   ]
  },
  {
   "cell_type": "code",
   "execution_count": 5,
   "metadata": {},
   "outputs": [
    {
     "name": "stdout",
     "output_type": "stream",
     "text": [
      "File 'S209-2.csv': Couldn't accurately predict the most probable participant. Define the mosts probable interviewers and select by default the participant as a fallback.\n"
     ]
    }
   ],
   "source": [
    "source_directory = \"../interviews_corrected/1_cleaned\"    \n",
    "destination_directory = \"../interviews_corrected/2_cleaned_role\" \n",
    "\n",
    "process_files(source_directory, destination_directory, roles=True)"
   ]
  },
  {
   "cell_type": "markdown",
   "metadata": {},
   "source": [
    "## Text Format + Visual Cleaning\n",
    "Converts transcripts into a standardized text format with optional timestamps for better readability and analysis."
   ]
  },
  {
   "cell_type": "code",
   "execution_count": 6,
   "metadata": {},
   "outputs": [],
   "source": [
    "source_directory = \"../interviews_corrected/2_cleaned_role\"  \n",
    "destination_directory = \"../interviews_corrected/3_text\"\n",
    "\n",
    "process_files(source_directory, destination_directory, text_format=True, time_stamps=True)"
   ]
  },
  {
   "cell_type": "markdown",
   "metadata": {},
   "source": [
    "## Matching Translations\n",
    "Align transcripts by largest overlap or closest proximity, using as reference the english translation to have as support the original transcript in the same file.\n",
    "- Translation (*source*) & Original (*target*)"
   ]
  },
  {
   "cell_type": "code",
   "execution_count": 9,
   "metadata": {},
   "outputs": [
    {
     "name": "stdout",
     "output_type": "stream",
     "text": [
      "Matching file not found for ../results/Grief/fr/fr_to_eng\\ADE_pilot_002\\ADE_pilot_002_interview_08.10.24_part1.csv\n",
      "Matching file not found for ../results/Grief/fr/fr_to_eng\\ADE_pilot_002\\ADE_pilot_002_interview_08.10.24_part2.csv\n",
      "Matching file not found for ../results/Grief/fr/fr_to_eng\\ADE_pilot_010\\ADE_pilot_010_interview_08.11.24_part1.csv\n",
      "Matching file not found for ../results/Grief/fr/fr_to_eng\\ADE_pilot_010\\ADE_pilot_010_interview_08.11.24_part2.csv\n",
      "Matching file not found for ../results/Grief/fr/fr_to_eng\\ADE_pilot_011\\ADE_pilot_011_interview_20.11.24.csv\n"
     ]
    }
   ],
   "source": [
    "ref_folder = \"../results/Grief/fr/fr_to_eng\"\n",
    "target_folder = \"../results/Grief/french/fr\"\n",
    "\n",
    "output_folder = \"../results/Grief/french/matched_transcripts\"\n",
    "\n",
    "match_transcripts_folder(ref_folder, target_folder, output_folder)"
   ]
  },
  {
   "cell_type": "markdown",
   "metadata": {},
   "source": [
    "## Merging Files\n",
    "\n",
    "Combines multiple transcripts from a single interview into a single file for easier processing and analysis.\n",
    "\n",
    "- Whenever possible, it is recommended to merge the audio files before processing. This allows the model to work on longer segments, up to a logical limit (depending on computational constraints), which improves its ability to identify and separate different speakers effectively."
   ]
  },
  {
   "cell_type": "code",
   "execution_count": null,
   "metadata": {},
   "outputs": [],
   "source": [
    "source_directory = \"../Grief_submission/0_fr_role\"\n",
    "destination_directory = \"../Grief_submission/1_fr_merged_role\"\n",
    "\n",
    "merge_csv_in_subdirectories(source_directory, destination_directory)"
   ]
  },
  {
   "cell_type": "markdown",
   "metadata": {},
   "source": [
    "## Adding Metadata (*if available*)\n",
    "Enriches transcripts with experiment-specific metadata, such as experimental conditions or utterance indices."
   ]
  },
  {
   "cell_type": "code",
   "execution_count": 13,
   "metadata": {},
   "outputs": [],
   "source": [
    "source_directory = \"../interviews_corrected/2_cleaned_role\"  \n",
    "destination_directory = \"../interviews_corrected/4_conditions\"\n",
    "condition_info = pd.read_csv(\"../Dataset/meditation_interviews/overview_interviews.csv\")\n",
    "\n",
    "process_files(source_directory, destination_directory, conditions=condition_info)"
   ]
  },
  {
   "cell_type": "code",
   "execution_count": 14,
   "metadata": {},
   "outputs": [],
   "source": [
    "source_directory = \"../interviews_corrected/4_conditions\"\n",
    "destination_directory = \"../interviews_corrected/5_turn\"\n",
    "\n",
    "process_files(source_directory, destination_directory, turn=True)"
   ]
  },
  {
   "cell_type": "markdown",
   "metadata": {},
   "source": [
    "# Workflow used for the Grief Transcriptions"
   ]
  },
  {
   "cell_type": "markdown",
   "metadata": {},
   "source": [
    "## For English audio files"
   ]
  },
  {
   "cell_type": "code",
   "execution_count": null,
   "metadata": {},
   "outputs": [],
   "source": [
    "source_directory = \"../results/Grief/eng\"\n",
    "destination_directory = \"../Grief_submission/1_eng_role\"\n",
    "process_files(source_directory, destination_directory, roles=True)\n",
    "\n",
    "source_directory = \"../Grief_submission/1_eng_role\"\n",
    "destination_directory = \"../Grief_submission/2_eng_merged_role_text\"\n",
    "merge_csv_in_subdirectories(source_directory, destination_directory)\n",
    "\n",
    "source_directory = \"../Grief_submission/2_eng_merged_role_text\"\n",
    "destination_directory = \"../Grief_submission/3_eng_merged_role_text\"\n",
    "process_files(source_directory, destination_directory, text_format=True, time_stamps=True)"
   ]
  },
  {
   "cell_type": "markdown",
   "metadata": {},
   "source": [
    "## For French audio files"
   ]
  },
  {
   "cell_type": "code",
   "execution_count": null,
   "metadata": {},
   "outputs": [],
   "source": [
    "ref_folder = \"../results/Grief/fr/fr_to_eng\"\n",
    "target_folder = \"../results/Grief/fr/fr\"\n",
    "output_folder = \"../results/Grief/fr/matched_transcripts\"\n",
    "match_transcripts_folder(ref_folder, target_folder, output_folder)\n",
    "\n",
    "source_directory = \"../results/Grief/fr/matched_transcripts\"\n",
    "destination_directory = \"../Grief_submission/1_fr_role\"\n",
    "process_files(source_directory, destination_directory, roles=True)\n",
    "\n",
    "source_directory = \"../Grief_submission/1_fr_role\"\n",
    "destination_directory = \"../Grief_submission/2_fr_merged_role\"\n",
    "merge_csv_in_subdirectories(source_directory, destination_directory)\n",
    "\n",
    "source_directory = \"../Grief_submission/2_fr_merged_role\"\n",
    "destination_directory = \"../Grief_submission/3_fr_merged_role_text\"\n",
    "process_files(source_directory, destination_directory, text_format=True, time_stamps=True)"
   ]
  }
 ],
 "metadata": {
  "kernelspec": {
   "display_name": "tti",
   "language": "python",
   "name": "python3"
  },
  "language_info": {
   "codemirror_mode": {
    "name": "ipython",
    "version": 3
   },
   "file_extension": ".py",
   "mimetype": "text/x-python",
   "name": "python",
   "nbconvert_exporter": "python",
   "pygments_lexer": "ipython3",
   "version": "3.10.16"
  }
 },
 "nbformat": 4,
 "nbformat_minor": 2
}
